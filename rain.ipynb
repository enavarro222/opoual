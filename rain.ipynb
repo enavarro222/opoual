{
 "metadata": {
  "name": "",
  "signature": "sha256:e3d9a5457b12741b4d548985f49c4d083712ded2f2db5a0d78fa20b750144806"
 },
 "nbformat": 3,
 "nbformat_minor": 0,
 "worksheets": [
  {
   "cells": [
    {
     "cell_type": "markdown",
     "metadata": {},
     "source": [
      "Pluie \u00e0 la grange !\n",
      "====================\n",
      "\n",
      "\n",
      "Ce notebook permet de visualis\u00e9 le nombre de mm de pluie tomb\u00e9 par jour \u00e0 la grange "
     ]
    },
    {
     "cell_type": "code",
     "collapsed": false,
     "input": [
      "%pylab inline\n",
      "%load_ext autoreload\n",
      "%autoreload 2"
     ],
     "language": "python",
     "metadata": {},
     "outputs": [
      {
       "output_type": "stream",
       "stream": "stdout",
       "text": [
        "Populating the interactive namespace from numpy and matplotlib\n"
       ]
      }
     ],
     "prompt_number": 4
    },
    {
     "cell_type": "code",
     "collapsed": false,
     "input": [
      "import pandas as pd\n",
      "import numpy as np\n",
      "from matplotlib import pylab as plt\n",
      "\n",
      "import time\n",
      "from datetime import datetime\n",
      "\n",
      "from source_emoncms import EmoncmsSource"
     ],
     "language": "python",
     "metadata": {},
     "outputs": []
    },
    {
     "cell_type": "markdown",
     "metadata": {},
     "source": [
      "Creation de 'emonsrc' interface avec les systeme de stockage des data de la grange."
     ]
    },
    {
     "cell_type": "code",
     "collapsed": false,
     "input": [
      "with open(\"emonsrc_config.txt\") as emoncfg:\n",
      "    url = emoncfg.readline().strip()\n",
      "    key = emoncfg.readline().strip()\n",
      "    emonsrc = EmoncmsSource(url=url, apikey=key)"
     ],
     "language": "python",
     "metadata": {},
     "outputs": []
    },
    {
     "cell_type": "code",
     "collapsed": false,
     "input": [
      "rain_feed = 45\n",
      "nb_day = 30*5\n",
      "now = time.time()\n",
      "\n",
      "# compute date params\n",
      "start_ts = now - nb_day*24*60*60\n",
      "start = datetime.fromtimestamp(start_ts)\n",
      "print \"Start at: %s\" % start\n",
      "\n",
      "delta_sec = 60*60 # measure each hour\n",
      "nb_data = (nb_day*60*60*24)/delta_sec\n",
      "print delta_sec, nb_data"
     ],
     "language": "python",
     "metadata": {},
     "outputs": []
    },
    {
     "cell_type": "code",
     "collapsed": false,
     "input": [
      "# get data\n",
      "rain_accu = emonsrc.get_data(rain_feed, start, delta_sec, nb_data=nb_data)\n",
      "print \"first %s\" % rain_accu.index[0]\n",
      "print \"last  %s\" % rain_accu.index[-1]"
     ],
     "language": "python",
     "metadata": {},
     "outputs": []
    },
    {
     "cell_type": "code",
     "collapsed": false,
     "input": [
      "rain_accu_day = rain_accu.resample(\"D\", how=\"last\")\n",
      "nbnan = np.count_nonzero(np.isnan(rain_accu_day))\n",
      "print(\"Got %s missing values (on %s)\" % (nbnan, len(rain_accu_day) ))\n",
      "rain_accu_day = rain_accu_day.fillna(method=\"pad\").fillna(method=\"bfill\")\n",
      "print rain_accu_day"
     ],
     "language": "python",
     "metadata": {},
     "outputs": []
    },
    {
     "cell_type": "markdown",
     "metadata": {},
     "source": [
      "Affichage des donn\u00e9es brutes et resampl\u00e9es\n",
      "---------------------------------------"
     ]
    },
    {
     "cell_type": "code",
     "collapsed": false,
     "input": [
      "ax = rain_accu.plot()\n",
      "rain_accu_day.plot(style=\"r\", figsize=(14, 6))"
     ],
     "language": "python",
     "metadata": {},
     "outputs": []
    },
    {
     "cell_type": "markdown",
     "metadata": {},
     "source": [
      "Calcul et affichage de la pluie en mm/jour\n",
      "--------------------------------------------"
     ]
    },
    {
     "cell_type": "code",
     "collapsed": false,
     "input": [
      "last_day_rain = rain_accu_day.tshift(1)\n",
      "rain_by_day = rain_accu_day - last_day_rain\n",
      "rain_by_day.name = \"rain_by_day\""
     ],
     "language": "python",
     "metadata": {},
     "outputs": []
    },
    {
     "cell_type": "code",
     "collapsed": false,
     "input": [
      "#print \"##\u00a0end of the day\"\n",
      "#print rain_accu_day[1:]\n",
      "#print \"## end of the LAST last day\"\n",
      "#print last_day_rain\n",
      "#print \"## rain by day\"\n",
      "#print rain_by_day[1:-1]\n"
     ],
     "language": "python",
     "metadata": {},
     "outputs": []
    },
    {
     "cell_type": "code",
     "collapsed": false,
     "input": [
      "rain_by_day[\"2014-11-2\"]"
     ],
     "language": "python",
     "metadata": {},
     "outputs": []
    },
    {
     "cell_type": "code",
     "collapsed": false,
     "input": [
      "all_data = pd.concat([rain_accu_day[1:], rain_by_day[1:-1]], axis=1)\n"
     ],
     "language": "python",
     "metadata": {},
     "outputs": []
    },
    {
     "cell_type": "code",
     "collapsed": false,
     "input": [
      "plt.figure(figsize=(13,5))\n",
      "\n",
      "ax = all_data['rain_by_day'].plot(\n",
      "    style=\"cd-\",\n",
      "    label=\"mm/day\",\n",
      ")\n",
      "ax2 = all_data['ext_rain'].plot(\n",
      "    kind=\"area\",\n",
      "    color=\"m\", alpha=0.1,\n",
      "    ax=ax,\n",
      "    secondary_y=True,\n",
      ")\n",
      "ax.set_ylabel('mm/day')\n",
      "ax.right_ax.set_ylabel('mm (total)')"
     ],
     "language": "python",
     "metadata": {},
     "outputs": []
    },
    {
     "cell_type": "code",
     "collapsed": false,
     "input": [],
     "language": "python",
     "metadata": {},
     "outputs": []
    },
    {
     "cell_type": "code",
     "collapsed": false,
     "input": [],
     "language": "python",
     "metadata": {},
     "outputs": []
    }
   ],
   "metadata": {}
  }
 ]
}